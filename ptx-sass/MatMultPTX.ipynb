{
 "cells": [
  {
   "cell_type": "markdown",
   "id": "73490901",
   "metadata": {},
   "source": [
    "# **Check Cuda Version**"
   ]
  },
  {
   "cell_type": "code",
   "execution_count": null,
   "id": "c497a4fb",
   "metadata": {
    "vscode": {
     "languageId": "plaintext"
    }
   },
   "outputs": [],
   "source": [
    "!nvcc --version"
   ]
  },
  {
   "cell_type": "markdown",
   "id": "a07fc2a1",
   "metadata": {},
   "source": [
    "# **CUDA Matrix Multiplication Code**\n",
    "Make sure you are using a GPU runtime in colab or running locally with Cuda Toolkit installed.\n",
    "\n",
    "Code is for square matrices"
   ]
  },
  {
   "cell_type": "code",
   "execution_count": null,
   "id": "f55ee570",
   "metadata": {
    "vscode": {
     "languageId": "plaintext"
    }
   },
   "outputs": [],
   "source": [
    "%%writefile matmult_cu.h\n",
    "#ifndef MATMULT_H\n",
    "#define MATMULT_H\n",
    "\n",
    "#include <cuda_runtime.h>\n",
    "#include <stdint.h>\n",
    "#include <stdio.h>\n",
    "\n",
    "// -------- Constants --------\n",
    "#define SIZE 10ULL // Matrix dimension (N x N)\n",
    "\n",
    "// -------- Function Prototypes --------\n",
    "\n",
    "// CUDA kernel for tiled matrix multiplication\n",
    "__global__ void gpu_matrix_mult(uint8_t *a, uint8_t *b, uint8_t *c);\n",
    "\n",
    "#endif // MATMULT_H"
   ]
  },
  {
   "cell_type": "code",
   "execution_count": null,
   "id": "b04c2a16",
   "metadata": {
    "vscode": {
     "languageId": "plaintext"
    }
   },
   "outputs": [],
   "source": [
    "%%writefile matmult.cu\n",
    "#include \"matmult_cu.h\"\n",
    "#include <cstdio>\n",
    "#include <cstdlib>\n",
    "#include <cassert>\n",
    "#include <cmath>\n",
    "#include <cuda_runtime.h>\n",
    "\n",
    "__global__ void gpu_matrix_mult(int *a, int *b, int *c) {\n",
    "    int row = blockIdx.y * blockDim.y + threadIdx.y;\n",
    "    int col = blockIdx.x * blockDim.x + threadIdx.x;\n",
    "\n",
    "    if (row < SIZE && col < SIZE) {\n",
    "        int sum = 0;\n",
    "        for (int i = 0; i < SIZE; i++)\n",
    "            sum += a[row * SIZE + i] * b[i * SIZE + col];\n",
    "        c[row * SIZE + col] = sum;\n",
    "    }\n",
    "}\n",
    "\n",
    "static void initialize(uint8_t *data, unsigned size) {\n",
    "    for (unsigned i = 0; i < size; ++i) {\n",
    "      data[i] = (i + 1);\n",
    "    }\n",
    "}\n",
    "\n",
    "int main() {\n",
    "\n",
    "  size_t elems = (size_t)SIZE * SIZE;\n",
    "\n",
    "  uint8_t *hostA = new uint8_t[elems];\n",
    "  uint8_t *hostB = new uint8_t[elems];\n",
    "  uint8_t *hostC = new uint8_t[elems];\n",
    "\n",
    "  initialize(hostA, elems);\n",
    "  initialize(hostB, elems);\n",
    "\n",
    "  int *deviceA, *deviceB, *deviceC;\n",
    "  cudaMalloc((void**)&deviceA, elems * sizeof(uint8_t));\n",
    "  cudaMalloc((void**)&deviceB, elems * sizeof(uint8_t));\n",
    "  cudaMalloc((void**)&deviceC, elems * sizeof(uint8_t));\n",
    "\n",
    "  cudaMemcpy(deviceA, hostA, elems * sizeof(uint8_t), cudaMemcpyHostToDevice);\n",
    "  cudaMemcpy(deviceB, hostB, elems * sizeof(uint8_t), cudaMemcpyHostToDevice);\n",
    "\n",
    "  dim3 threads(16, 16);\n",
    "  dim3 blocks((SIZE + threads.x - 1) / threads.x,\n",
    "            (SIZE + threads.y - 1) / threads.y);\n",
    "\n",
    "  gpu_matrix_mult<<<blocks, threads>>>(deviceA, deviceB, deviceC);\n",
    "  cudaDeviceSynchronize();\n",
    "\n",
    "  cudaMemcpy(hostC, deviceC, elems * sizeof(uint8_t), cudaMemcpyDeviceToHost);\n",
    "\n",
    "  cudaFree(deviceA);\n",
    "  cudaFree(deviceB);\n",
    "  cudaFree(deviceC);\n",
    "  return 0;\n",
    "}"
   ]
  },
  {
   "cell_type": "markdown",
   "id": "b1a24e92",
   "metadata": {},
   "source": [
    "# **Compile CUDA code with NVCC**"
   ]
  },
  {
   "cell_type": "markdown",
   "id": "fbde4a8f",
   "metadata": {},
   "source": [
    "## **PTX Code**"
   ]
  },
  {
   "cell_type": "code",
   "execution_count": null,
   "id": "d18e3af0",
   "metadata": {
    "vscode": {
     "languageId": "plaintext"
    }
   },
   "outputs": [],
   "source": [
    "!nvcc -ptx matmult.cu -o matmult.ptx\n",
    "!cat ./matmult.ptx"
   ]
  },
  {
   "cell_type": "markdown",
   "id": "e40dc9c1",
   "metadata": {},
   "source": [
    "## **SASS Code**"
   ]
  },
  {
   "cell_type": "code",
   "execution_count": null,
   "id": "ad03cbe3",
   "metadata": {
    "vscode": {
     "languageId": "plaintext"
    }
   },
   "outputs": [],
   "source": [
    "!nvcc -ptx matmult.cu -o matmult.ptx\n",
    "!nvcc matmult.cu -o matmult.cubin -arch=sm_75\n",
    "!cuobjdump -sass matmult.cubin"
   ]
  }
 ],
 "metadata": {
  "language_info": {
   "name": "python"
  }
 },
 "nbformat": 4,
 "nbformat_minor": 5
}
